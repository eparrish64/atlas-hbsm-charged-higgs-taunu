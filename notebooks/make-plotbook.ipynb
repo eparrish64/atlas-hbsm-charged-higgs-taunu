{
 "cells": [
  {
   "cell_type": "markdown",
   "metadata": {},
   "source": [
    "## Create plotbook "
   ]
  },
  {
   "cell_type": "code",
   "execution_count": 1,
   "metadata": {},
   "outputs": [
    {
     "name": "stdout",
     "output_type": "stream",
     "text": [
      "Welcome to JupyROOT 6.14/08\n"
     ]
    }
   ],
   "source": [
    "import os, sys\n",
    "\n",
    "from PIL import Image\n",
    "\n",
    "import ROOT\n"
   ]
  },
  {
   "cell_type": "code",
   "execution_count": 2,
   "metadata": {},
   "outputs": [
    {
     "data": {
      "text/plain": [
       "0"
      ]
     },
     "execution_count": 2,
     "metadata": {},
     "output_type": "execute_result"
    },
    {
     "name": "stderr",
     "output_type": "stream",
     "text": [
      "Fontconfig error: Cannot load default config file\n",
      "Fontconfig error: Cannot load default config file\n"
     ]
    }
   ],
   "source": [
    "prog = \"/cvmfs/soft.computecanada.ca/nix/var/nix/profiles/16.09/bin/montage -tile 2x2 -geometry 400\"\n",
    "rpath = \"/project/6024950/sbahrase/HPlusTauNu/hpana/workAREAAA/PLOTTING/v06Final/\"\n",
    "ofile = \"plots_v06Htl_1518_nom_ELID_vs_ELOLR.pdf\"\n",
    "\n",
    "dirs = [\"plots_v06Htj_1518_nom_ElID_1pTaus_29052019/\", \"plots_v06Htj_1518_nom_ElID_29052019/\"]\n",
    "dirs = [\"plots_v06Htl_1518_nom_ElID_29052019/\", \"plots_v06Htl_1518_systs_27052019/\"]\n",
    "imgs = sorted(os.listdir(rpath+dirs[0]))\n",
    "\n",
    "oimgs = []\n",
    "for img in imgs:\n",
    "        tmp = []\n",
    "        for d in dirs:\n",
    "            mp = rpath+d+img\n",
    "            if os.path.isfile(mp):\n",
    "                tmp += [mp]\n",
    "        if len(tmp)==len(dirs):\n",
    "            oimgs += tmp\n",
    "        else:\n",
    "            print img, \"is missing in one of the dirs! skipping\"\n",
    "\n",
    "oimgs = \" \".join(oimgs)        \n",
    "os.system(\"%s %s %s\"%(prog, oimgs, ofile))        \n"
   ]
  },
  {
   "cell_type": "code",
   "execution_count": 10,
   "metadata": {},
   "outputs": [],
   "source": [
    "from PIL import Image \n",
    "def make_contact_sheet(fnames,(ncols,nrows),(photow,photoh),\n",
    "                       (marl,mart,marr,marb),\n",
    "                       padding):\n",
    "    \"\"\"\\\n",
    "    Make a contact sheet from a group of filenames:\n",
    "\n",
    "    fnames       A list of names of the image files\n",
    "    \n",
    "    ncols        Number of columns in the contact sheet\n",
    "    nrows        Number of rows in the contact sheet\n",
    "    photow       The width of the photo thumbs in pixels\n",
    "    photoh       The height of the photo thumbs in pixels\n",
    "\n",
    "    marl         The left margin in pixels\n",
    "    mart         The top margin in pixels\n",
    "    marr         The right margin in pixels\n",
    "    marl         The left margin in pixels\n",
    "\n",
    "    padding      The padding between images in pixels\n",
    "\n",
    "    returns a PIL image object.\n",
    "    \"\"\"\n",
    "\n",
    "    # Read in all images and resize appropriately\n",
    "    imgs = [Image.open(fn).resize((photow,photoh)) for fn in fnames]\n",
    "\n",
    "    # Calculate the size of the output image, based on the\n",
    "    #  photo thumb sizes, margins, and padding\n",
    "    marw = marl+marr\n",
    "    marh = mart+ marb\n",
    "\n",
    "    padw = (ncols-1)*padding\n",
    "    padh = (nrows-1)*padding\n",
    "    isize = (ncols*photow+marw+padw,nrows*photoh+marh+padh)\n",
    "\n",
    "    # Create the new image. The background doesn't have to be white\n",
    "    white = (255,255,255)\n",
    "    inew = Image.new('RGB',isize,white)\n",
    "\n",
    "    # Insert each thumb:\n",
    "    for irow in range(nrows):\n",
    "        for icol in range(ncols):\n",
    "            left = marl + icol*(photow+padding)\n",
    "            right = left + photow\n",
    "            upper = mart + irow*(photoh+padding)\n",
    "            lower = upper + photoh\n",
    "            bbox = (left,upper,right,lower)\n",
    "            try:\n",
    "                img = imgs.pop(0)\n",
    "            except:\n",
    "                break\n",
    "            inew.paste(img,bbox)\n",
    "    return inew\n",
    "\n",
    "# # files = glob.glob('*.TIFF')\n",
    "\n",
    "# # Don't bother reading in files we aren't going to use\n",
    "# ncols = nrows =3\n",
    "# for n\n",
    "# if len(files) > ncols*nrows: files = files[:ncols*nrows]\n",
    "\n",
    "# # These are all in terms of pixels:\n",
    "# photow,photoh = 1000,1000\n",
    "# photo = (photow,photoh)\n",
    "\n",
    "# margins = [5,5,5,5]\n",
    "\n",
    "# padding = 1\n",
    "\n",
    "# inew = make_contact_sheet(files,(ncols,nrows),photo,margins,padding)\n",
    "# inew.save('bs.pdf')"
   ]
  },
  {
   "cell_type": "code",
   "execution_count": null,
   "metadata": {},
   "outputs": [],
   "source": []
  }
 ],
 "metadata": {
  "kernelspec": {
   "display_name": "Python 2",
   "language": "python",
   "name": "python2"
  },
  "language_info": {
   "codemirror_mode": {
    "name": "ipython",
    "version": 2
   },
   "file_extension": ".py",
   "mimetype": "text/x-python",
   "name": "python",
   "nbconvert_exporter": "python",
   "pygments_lexer": "ipython2",
   "version": "2.7.15"
  }
 },
 "nbformat": 4,
 "nbformat_minor": 2
}
